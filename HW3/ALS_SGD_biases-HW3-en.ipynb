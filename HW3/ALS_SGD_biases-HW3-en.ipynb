{
 "cells": [
  {
   "cell_type": "markdown",
   "metadata": {},
   "source": [
    "## HW - 3 (ALS and SGD)\n",
    "\n",
    "## student : Trofimov Nikolay"
   ]
  },
  {
   "cell_type": "markdown",
   "metadata": {},
   "source": [
    "The model loss function:\n",
    "\n",
    "$L = \\sum\\limits_{u,i}(r_{ui} - (\\mu + b_{u} + b_{i} + \\textbf{x}_{u}^{\\intercal} \\cdot{} \\textbf{y}_{i}))^{2}$+$\\lambda_{xb} \\sum\\limits_{u} \\left\\Vert b_{u} \\right\\Vert^{2} + \\lambda_{yb}\\sum\\limits_{i} \\left\\Vert b_{i} \\right\\Vert^{2}+\n",
    "\\lambda_{xf} \\sum\\limits_{u} \\left\\Vert \\textbf{x}_{u} \\right\\Vert^{2} + \\lambda_{yf} \\sum\\limits_{i} \\left\\Vert \\textbf{y}_{i} \\right\\Vert^{2}$"
   ]
  },
  {
   "cell_type": "code",
   "execution_count": 1,
   "metadata": {},
   "outputs": [],
   "source": [
    "import numpy as np\n",
    "import pandas as pd\n",
    "\n",
    "np.random.seed(0)"
   ]
  },
  {
   "cell_type": "markdown",
   "metadata": {},
   "source": [
    "MovieLens dataset\n"
   ]
  },
  {
   "cell_type": "code",
   "execution_count": null,
   "metadata": {},
   "outputs": [],
   "source": [
    "!curl -O http://files.grouplens.org/datasets/movielens/ml-100k.zip\n",
    "!unzip ml-100k.zip"
   ]
  },
  {
   "cell_type": "code",
   "execution_count": 2,
   "metadata": {},
   "outputs": [
    {
     "name": "stdout",
     "output_type": "stream",
     "text": [
      "c:\\Users\\gospodin\\Desktop\\RecommenderCourse\\HW3\\ml-100k\n"
     ]
    },
    {
     "name": "stderr",
     "output_type": "stream",
     "text": [
      "C:\\Users\\gospodin\\AppData\\Roaming\\Python\\Python313\\site-packages\\IPython\\core\\magics\\osm.py:417: UserWarning: This is now an optional IPython functionality, setting dhist requires you to install the `pickleshare` library.\n",
      "  self.shell.db['dhist'] = compress_dhist(dhist)[-100:]\n"
     ]
    }
   ],
   "source": [
    "cd ml-100k/"
   ]
  },
  {
   "cell_type": "markdown",
   "metadata": {},
   "source": [
    "### Load data and create ratings matrix $r_{ij}$ "
   ]
  },
  {
   "cell_type": "code",
   "execution_count": 3,
   "metadata": {
    "collapsed": true,
    "jupyter": {
     "outputs_hidden": true
    }
   },
   "outputs": [],
   "source": [
    "# Load dataset\n",
    "names = ['user_id', 'item_id', 'rating', 'timestamp']\n",
    "df = pd.read_csv('u.data', sep='\\t', names=names)\n",
    "n_users = df.user_id.unique().shape[0]\n",
    "n_items = df.item_id.unique().shape[0]\n",
    "\n",
    "# Create r_{ui}, our ratings matrix\n",
    "ratings = np.zeros((n_users, n_items))\n",
    "for row in df.itertuples():\n",
    "    ratings[row[1]-1, row[2]-1] = row[3]"
   ]
  },
  {
   "cell_type": "markdown",
   "metadata": {},
   "source": [
    "### Split test and train"
   ]
  },
  {
   "cell_type": "code",
   "execution_count": 4,
   "metadata": {
    "collapsed": true,
    "jupyter": {
     "outputs_hidden": true
    }
   },
   "outputs": [],
   "source": [
    "# Split into training and test sets. \n",
    "# Remove 10 ratings for each user and assign them to the test set\n",
    "def train_test_split(ratings):\n",
    "    test = np.zeros(ratings.shape)\n",
    "    train = ratings.copy()\n",
    "    for user in np.arange(ratings.shape[0]):\n",
    "        test_ratings = np.random.choice(ratings[user, :].nonzero()[0], \n",
    "                                        size=10, \n",
    "                                        replace=False)\n",
    "        train[user, test_ratings] = 0.\n",
    "        test[user, test_ratings] = ratings[user, test_ratings]\n",
    "        \n",
    "    # Test and training are truly disjoint\n",
    "    assert(np.all((train * test) == 0)) \n",
    "    return train, test"
   ]
  },
  {
   "cell_type": "markdown",
   "metadata": {},
   "source": [
    "### Metric"
   ]
  },
  {
   "cell_type": "code",
   "execution_count": 5,
   "metadata": {},
   "outputs": [],
   "source": [
    "from sklearn.metrics import mean_squared_error\n",
    "\n",
    "def get_mse(pred, actual):\n",
    "    pred = pred[actual.nonzero()].flatten()\n",
    "    actual = actual[actual.nonzero()].flatten()\n",
    "    return mean_squared_error(pred, actual)"
   ]
  },
  {
   "cell_type": "markdown",
   "metadata": {
    "collapsed": true,
    "jupyter": {
     "outputs_hidden": true
    }
   },
   "source": [
    "### Class implementing ALS and ExplicitMF with gradient descent and biases"
   ]
  },
  {
   "cell_type": "markdown",
   "metadata": {},
   "source": [
    "This implementation has already been corrected. \n",
    "\n",
    "It includes the is_biased flag, which indicates whether we want a version with bias or not. \n",
    "\n",
    "Additionally, it implements ALS with bias."
   ]
  },
  {
   "cell_type": "code",
   "execution_count": 6,
   "metadata": {
    "collapsed": true,
    "jupyter": {
     "outputs_hidden": true
    }
   },
   "outputs": [],
   "source": [
    "from numpy.linalg import solve\n",
    "\n",
    "\n",
    "class ExplicitMF():\n",
    "    def __init__(self, \n",
    "                 ratings,\n",
    "                 n_factors=40,\n",
    "                 learning='sgd',\n",
    "                 item_fact_reg=0.0, \n",
    "                 user_fact_reg=0.0,\n",
    "                 item_bias_reg=0.0,\n",
    "                 user_bias_reg=0.0,\n",
    "                 is_biased = False,\n",
    "                 verbose=False):\n",
    "        \n",
    "        self.ratings = ratings\n",
    "        self.n_users, self.n_items = ratings.shape\n",
    "        self.n_factors = n_factors\n",
    "        self.item_fact_reg = item_fact_reg\n",
    "        self.user_fact_reg = user_fact_reg\n",
    "        self.item_bias_reg = item_bias_reg\n",
    "        self.user_bias_reg = user_bias_reg\n",
    "        self.learning = learning\n",
    "        self.is_biased = is_biased\n",
    "        if self.learning == 'sgd':\n",
    "            self.sample_row, self.sample_col = self.ratings.nonzero()\n",
    "            self.n_samples = len(self.sample_row)\n",
    "        self._v = verbose\n",
    "\n",
    "\n",
    "    def update_global_bias(self, ratings):\n",
    "        predictions = self.user_bias[:, np.newaxis] + self.item_bias + self.user_vecs.dot(self.item_vecs.T)\n",
    "        residuals = ratings - predictions\n",
    "        non_zero_mask = ratings != 0\n",
    "        residual_sum = np.sum(residuals[non_zero_mask])\n",
    "        non_zero_count = np.sum(non_zero_mask)\n",
    "        \n",
    "        self.global_bias = residual_sum / non_zero_count\n",
    "\n",
    "    def als_step(self,\n",
    "                 latent_vectors,\n",
    "                 fixed_vecs,\n",
    "                 ratings,\n",
    "                 _lambda,\n",
    "                 is_biased=True,\n",
    "                 type='user'):\n",
    "\n",
    "        if type == 'user':\n",
    "            # y - fixed, x - latent\n",
    "            if not is_biased:\n",
    "                YTY = fixed_vecs.T.dot(fixed_vecs)\n",
    "                lambdaI = np.eye(YTY.shape[0]) * _lambda\n",
    "\n",
    "                for u in range(latent_vectors.shape[0]):\n",
    "                    latent_vectors[u, :] = solve((YTY + lambdaI), \n",
    "                                                ratings[u, :].dot(fixed_vecs))\n",
    "            else:\n",
    "                ratings_theta = ratings - self.item_bias - self.global_bias\n",
    "                fixed_vecs_bias = []\n",
    "                for i_iter in range(self.n_items):\n",
    "                    fixed_vecs_bias.append(np.insert(fixed_vecs[i_iter], 0, 1))\n",
    "\n",
    "                fixed_vecs_bias = np.array(fixed_vecs_bias)\n",
    "\n",
    "                Y_T_Y = fixed_vecs_bias.T.dot(fixed_vecs_bias)\n",
    "                lambdaI = np.eye(Y_T_Y.shape[0]) * _lambda\n",
    "                lambdaI[0, 0] = self.user_bias_reg \n",
    "                for u in range(latent_vectors.shape[0]):\n",
    "                    vec = solve((Y_T_Y + lambdaI), \n",
    "                                                fixed_vecs_bias.T.dot(ratings_theta[u, :]))\n",
    "                    latent_vectors[u, :] = vec[1:]\n",
    "                    self.user_bias[u] = vec[0]\n",
    "                \n",
    "        elif type == 'item':\n",
    "            # x - fixed, y - latent\n",
    "            if not is_biased:\n",
    "                XTX = fixed_vecs.T.dot(fixed_vecs)\n",
    "                lambdaI = np.eye(XTX.shape[0]) * _lambda\n",
    "                \n",
    "                for i in range(latent_vectors.shape[0]):\n",
    "                    latent_vectors[i, :] = solve((XTX + lambdaI), \n",
    "                                                ratings[:, i].T.dot(fixed_vecs))\n",
    "            else:\n",
    "                ratings_b = ratings - self.user_bias[:, np.newaxis] - self.global_bias\n",
    "                fixed_vecs_bias = []\n",
    "                for u_iter in range(self.n_users):\n",
    "                    fixed_vecs_bias.append(np.insert(fixed_vecs[u_iter], 0, 1))\n",
    "\n",
    "                fixed_vecs_bias = np.array(fixed_vecs_bias)\n",
    "                X_T_X = fixed_vecs_bias.T.dot(fixed_vecs_bias)\n",
    "                lambdaI = np.eye(X_T_X.shape[0]) * _lambda\n",
    "                lambdaI[0, 0] = self.item_bias_reg \n",
    "                for i in range(latent_vectors.shape[0]):\n",
    "                    vec = solve((X_T_X + lambdaI), \n",
    "                                                fixed_vecs_bias.T.dot(ratings_b[:, i]))\n",
    "                    latent_vectors[i, :] = vec[1:]\n",
    "                    self.item_bias[i] = vec[0]\n",
    "\n",
    "\n",
    "\n",
    "        return latent_vectors\n",
    "\n",
    "    def train(self, n_iter=10, learning_rate=0.1):\n",
    "        self.user_vecs = np.random.normal(scale=1./self.n_factors, size=(self.n_users, self.n_factors))\n",
    "        self.item_vecs = np.random.normal(scale=1./self.n_factors, size=(self.n_items, self.n_factors))\n",
    "\n",
    "        if self.is_biased:\n",
    "            self.user_bias = np.zeros(self.n_users)\n",
    "            self.item_bias = np.zeros(self.n_items)\n",
    "            self.global_bias = np.mean(self.ratings[np.where(self.ratings != 0)])\n",
    "\n",
    "        self.learning_rate = learning_rate\n",
    "        self.partial_train(n_iter,0)\n",
    "    \n",
    "    \n",
    "    def partial_train(self, n_iter, iter_done):\n",
    "        ctr = 1\n",
    "        while ctr <= n_iter:\n",
    "            if (ctr+iter_done) % 10 == 0 and self._v:\n",
    "                print (f'\\tcurrent iteration: {ctr+iter_done}')\n",
    "            if self.learning == 'als':\n",
    "                self.user_vecs = self.als_step(self.user_vecs, \n",
    "                                               self.item_vecs, \n",
    "                                               self.ratings, \n",
    "                                               self.user_fact_reg,\n",
    "                                               self.is_biased, \n",
    "                                               type='user')\n",
    "                self.item_vecs = self.als_step(self.item_vecs, \n",
    "                                               self.user_vecs, \n",
    "                                               self.ratings, \n",
    "                                               self.item_fact_reg, \n",
    "                                               self.is_biased, \n",
    "                                               type='item')\n",
    "                if self.is_biased:\n",
    "                    self.update_global_bias(self.ratings)\n",
    "            elif self.learning == 'sgd':\n",
    "                self.training_indices = np.arange(self.n_samples)\n",
    "                np.random.shuffle(self.training_indices)\n",
    "                self.sgd()\n",
    "            ctr += 1\n",
    "\n",
    "    def sgd(self):\n",
    "        for idx in self.training_indices:\n",
    "            u = self.sample_row[idx]\n",
    "            i = self.sample_col[idx]\n",
    "            prediction = self.predict(u, i)\n",
    "            e = (self.ratings[u,i] - prediction)\n",
    "            \n",
    "            if self.is_biased:\n",
    "                self.user_bias[u] += self.learning_rate * (e - self.user_bias_reg * self.user_bias[u])\n",
    "                self.item_bias[i] += self.learning_rate * (e - self.item_bias_reg * self.item_bias[i])\n",
    "\n",
    "            self.user_vecs[u, :] += self.learning_rate *\\\n",
    "                                    (e * self.item_vecs[i, :] - self.user_fact_reg * self.user_vecs[u,:])\n",
    "            self.item_vecs[i, :] += self.learning_rate * \\\n",
    "                                    (e * self.user_vecs[u, :] - self.item_fact_reg * self.item_vecs[i,:])\n",
    "\n",
    "\n",
    "\n",
    "    def predict(self, u, i):\n",
    "        if self.is_biased:\n",
    "            prediction = self.global_bias + self.user_bias[u] + self.item_bias[i]\n",
    "            prediction += self.user_vecs[u, :].dot(self.item_vecs[i, :].T)\n",
    "            return prediction\n",
    "            \n",
    "        return self.user_vecs[u, :].dot(self.item_vecs[i, :].T)\n",
    "    \n",
    "    def predict_all(self):\n",
    "        predictions = np.zeros((self.user_vecs.shape[0], \n",
    "                                self.item_vecs.shape[0]))\n",
    "        for u in range(self.user_vecs.shape[0]):\n",
    "            for i in range(self.item_vecs.shape[0]):\n",
    "                predictions[u, i] = self.predict(u, i)\n",
    "                \n",
    "        return predictions\n",
    "    \n",
    "    def calculate_learning_curve(self, iter_array, test, learning_rate=0.1):\n",
    "        iter_array.sort()\n",
    "        self.train_mse =[]\n",
    "        self.test_mse = []\n",
    "        iter_diff = 0\n",
    "        for (i, n_iter) in enumerate(iter_array):\n",
    "            if self._v:\n",
    "                print (f'Iteration: {n_iter}')\n",
    "            if i == 0:\n",
    "                self.train(n_iter - iter_diff, learning_rate)\n",
    "            else:\n",
    "                self.partial_train(n_iter - iter_diff, iter_diff)\n",
    "\n",
    "            predictions = self.predict_all()\n",
    "\n",
    "            self.train_mse += [get_mse(predictions, self.ratings)]\n",
    "            self.test_mse += [get_mse(predictions, test)]\n",
    "            if self._v:\n",
    "                print (f'MSE train:test: {round(self.train_mse[-1],2)} : {round(self.test_mse[-1],2)}\\n')\n",
    "            iter_diff = n_iter"
   ]
  },
  {
   "cell_type": "markdown",
   "metadata": {
    "collapsed": true,
    "jupyter": {
     "outputs_hidden": true
    }
   },
   "source": [
    "#### Plots"
   ]
  },
  {
   "cell_type": "code",
   "execution_count": 7,
   "metadata": {
    "collapsed": true,
    "jupyter": {
     "outputs_hidden": true
    }
   },
   "outputs": [],
   "source": [
    "%matplotlib inline\n",
    "import matplotlib.pyplot as plt\n",
    "import seaborn as sns\n",
    "sns.set()\n",
    "\n",
    "def plot_learning_curve(iter_array, model):\n",
    "    plt.plot(iter_array, model.train_mse, \\\n",
    "             label='Training', linewidth=3)\n",
    "    plt.plot(iter_array, model.test_mse, \\\n",
    "             label='Test', linewidth=3)\n",
    "\n",
    "\n",
    "    plt.xticks(fontsize=16);\n",
    "    plt.yticks(fontsize=16);\n",
    "    plt.xlabel('Iterations', fontsize=25);\n",
    "    plt.ylabel('MSE', fontsize=25);\n",
    "    plt.legend(loc='best', fontsize=20);"
   ]
  },
  {
   "cell_type": "markdown",
   "metadata": {},
   "source": [
    "##### Gradient descent with biases"
   ]
  },
  {
   "cell_type": "code",
   "execution_count": 8,
   "metadata": {
    "collapsed": true,
    "jupyter": {
     "outputs_hidden": true
    }
   },
   "outputs": [],
   "source": [
    "train, test = train_test_split(ratings)\n",
    "MF_SGD = ExplicitMF(train, 40, learning='sgd', verbose=True, is_biased=True)\n",
    "iter_array = [1, 2, 5, 10, 25, 50, 100, 200]"
   ]
  },
  {
   "cell_type": "code",
   "execution_count": 9,
   "metadata": {},
   "outputs": [
    {
     "name": "stdout",
     "output_type": "stream",
     "text": [
      "Iteration: 1\n",
      "MSE train:test: 1.14 : 1.19\n",
      "\n",
      "Iteration: 2\n",
      "MSE train:test: 1.07 : 1.14\n",
      "\n",
      "Iteration: 5\n",
      "MSE train:test: 0.98 : 1.06\n",
      "\n",
      "Iteration: 10\n",
      "\tcurrent iteration: 10\n",
      "MSE train:test: 0.92 : 1.01\n",
      "\n",
      "Iteration: 25\n",
      "\tcurrent iteration: 20\n",
      "MSE train:test: 0.87 : 0.96\n",
      "\n",
      "Iteration: 50\n",
      "\tcurrent iteration: 30\n",
      "\tcurrent iteration: 40\n",
      "\tcurrent iteration: 50\n",
      "MSE train:test: 0.84 : 0.94\n",
      "\n",
      "Iteration: 100\n",
      "\tcurrent iteration: 60\n",
      "\tcurrent iteration: 70\n",
      "\tcurrent iteration: 80\n",
      "\tcurrent iteration: 90\n",
      "\tcurrent iteration: 100\n",
      "MSE train:test: 0.75 : 0.92\n",
      "\n",
      "Iteration: 200\n",
      "\tcurrent iteration: 110\n",
      "\tcurrent iteration: 120\n",
      "\tcurrent iteration: 130\n",
      "\tcurrent iteration: 140\n",
      "\tcurrent iteration: 150\n",
      "\tcurrent iteration: 160\n",
      "\tcurrent iteration: 170\n",
      "\tcurrent iteration: 180\n",
      "\tcurrent iteration: 190\n",
      "\tcurrent iteration: 200\n",
      "MSE train:test: 0.4 : 0.92\n",
      "\n"
     ]
    }
   ],
   "source": [
    "MF_SGD.calculate_learning_curve(iter_array, test, learning_rate=0.001)"
   ]
  },
  {
   "cell_type": "code",
   "execution_count": 10,
   "metadata": {},
   "outputs": [
    {
     "data": {
      "image/png": "[encoded data removed]",
      "text/plain": [
       "<Figure size 640x480 with 1 Axes>"
      ]
     },
     "metadata": {},
     "output_type": "display_data"
    }
   ],
   "source": [
    "plot_learning_curve(iter_array, MF_SGD)"
   ]
  },
  {
   "cell_type": "markdown",
   "metadata": {},
   "source": [
    "#### ALS without biases"
   ]
  },
  {
   "cell_type": "code",
   "execution_count": 11,
   "metadata": {},
   "outputs": [
    {
     "name": "stdout",
     "output_type": "stream",
     "text": [
      "Iteration: 1\n",
      "MSE train:test: 5.52 : 9.93\n",
      "\n",
      "Iteration: 2\n",
      "MSE train:test: 4.21 : 8.66\n",
      "\n",
      "Iteration: 5\n",
      "MSE train:test: 3.97 : 8.5\n",
      "\n",
      "Iteration: 10\n",
      "\tcurrent iteration: 10\n",
      "MSE train:test: 3.93 : 8.48\n",
      "\n",
      "Iteration: 25\n",
      "\tcurrent iteration: 20\n",
      "MSE train:test: 3.92 : 8.47\n",
      "\n",
      "Iteration: 50\n",
      "\tcurrent iteration: 30\n",
      "\tcurrent iteration: 40\n",
      "\tcurrent iteration: 50\n",
      "MSE train:test: 3.92 : 8.48\n",
      "\n",
      "Iteration: 100\n",
      "\tcurrent iteration: 60\n",
      "\tcurrent iteration: 70\n",
      "\tcurrent iteration: 80\n",
      "\tcurrent iteration: 90\n",
      "\tcurrent iteration: 100\n",
      "MSE train:test: 3.92 : 8.48\n",
      "\n",
      "Iteration: 200\n",
      "\tcurrent iteration: 110\n",
      "\tcurrent iteration: 120\n",
      "\tcurrent iteration: 130\n",
      "\tcurrent iteration: 140\n",
      "\tcurrent iteration: 150\n",
      "\tcurrent iteration: 160\n",
      "\tcurrent iteration: 170\n",
      "\tcurrent iteration: 180\n",
      "\tcurrent iteration: 190\n",
      "\tcurrent iteration: 200\n",
      "MSE train:test: 3.92 : 8.47\n",
      "\n"
     ]
    }
   ],
   "source": [
    "MF_ALS = ExplicitMF(train, 40, learning='als', verbose=True)\n",
    "iter_array = [1, 2, 5, 10, 25, 50, 100, 200]\n",
    "MF_ALS.calculate_learning_curve(iter_array, test, learning_rate=0.001)"
   ]
  },
  {
   "cell_type": "code",
   "execution_count": 12,
   "metadata": {},
   "outputs": [
    {
     "data": {
      "image/png": "[encoded data removed]",
      "text/plain": [
       "<Figure size 640x480 with 1 Axes>"
      ]
     },
     "metadata": {},
     "output_type": "display_data"
    }
   ],
   "source": [
    "plot_learning_curve(iter_array, MF_ALS)"
   ]
  },
  {
   "cell_type": "markdown",
   "metadata": {},
   "source": [
    "1) We will evaluate the algorithm's performance using the following criteria:\n",
    "\n",
    "- **Mean Squared Error (MSE):**  \n",
    "  This metric will be used to measure the quality of predictions.\n",
    "\n",
    "- **Training and Prediction Time:**  \n",
    "  Both training and prediction times will be recorded to assess computational efficiency.\n",
    "\n",
    "\n",
    "To ensure fairness, all measurements will use the same number of iterations, controlled by the constant `const_num_iter`."
   ]
  },
  {
   "cell_type": "code",
   "execution_count": 13,
   "metadata": {},
   "outputs": [],
   "source": [
    "import time \n",
    "\n",
    "const_num_iter = 30\n",
    "\n",
    "class CalcQualityTime(ExplicitMF):\n",
    "    def quality_time(self, test, arr_factors, arr_learning_rate):\n",
    "        arr_quality = []\n",
    "        arr_predict_time = []\n",
    "        arr_train_time = []\n",
    "        factor_lr = [] # (factor_lr, lr)\n",
    "\n",
    "        for n_factors in arr_factors:\n",
    "            for learning_rate in arr_learning_rate:\n",
    "                self.n_factors = n_factors\n",
    "\n",
    "                start_train = time.time()\n",
    "                self.train(const_num_iter, learning_rate)\n",
    "                end_train = time.time()    \n",
    "                \n",
    "                start_predict = time.time()\n",
    "                predictions = self.predict_all()\n",
    "                end_predict = time.time()\n",
    "                \n",
    "                arr_quality.append(get_mse(predictions, test))\n",
    "                arr_predict_time.append(end_predict - start_predict)\n",
    "                arr_train_time.append(end_train - start_train)\n",
    "                factor_lr.append((n_factors, learning_rate))\n",
    "\n",
    "        \n",
    "\n",
    "        return arr_quality, arr_predict_time, arr_train_time, factor_lr"
   ]
  },
  {
   "cell_type": "markdown",
   "metadata": {},
   "source": [
    "Compare als (no biases) and sgd (no biases)"
   ]
  },
  {
   "cell_type": "code",
   "execution_count": 14,
   "metadata": {},
   "outputs": [],
   "source": [
    "MF_ALS = CalcQualityTime(train, 40, learning='als', verbose=False, is_biased=False)\n",
    "MF_SGD = CalcQualityTime(train, 40, learning='sgd', verbose=False, is_biased=False)\n",
    "\n",
    "models_names = [(MF_ALS, 'ALS'), (MF_SGD, 'SGD')]"
   ]
  },
  {
   "cell_type": "code",
   "execution_count": 15,
   "metadata": {},
   "outputs": [],
   "source": [
    "arr_n_factors = [1, 10, 25, 50]\n",
    "arr_lr_ratings = [0.001, 0.01]\n",
    "\n",
    "\n",
    "arr_qualities = []\n",
    "arr_predict_times = []\n",
    "arr_train_times = []\n",
    "names = []\n",
    "for model, name in models_names:\n",
    "    quality_model, predict_time_model, train_time_model, factor_lr = model.quality_time(test, arr_n_factors, arr_lr_ratings)\n",
    "\n",
    "    arr_qualities.append(quality_model)\n",
    "    arr_predict_times.append(predict_time_model)\n",
    "    arr_train_times.append(train_time_model)\n",
    "    names.append(name)\n"
   ]
  },
  {
   "cell_type": "code",
   "execution_count": 16,
   "metadata": {},
   "outputs": [
    {
     "data": {
      "text/html": [
       "<div>\n",
       "<style scoped>\n",
       "    .dataframe tbody tr th:only-of-type {\n",
       "        vertical-align: middle;\n",
       "    }\n",
       "\n",
       "    .dataframe tbody tr th {\n",
       "        vertical-align: top;\n",
       "    }\n",
       "\n",
       "    .dataframe thead th {\n",
       "        text-align: right;\n",
       "    }\n",
       "</style>\n",
       "<table border=\"1\" class=\"dataframe\">\n",
       "  <thead>\n",
       "    <tr style=\"text-align: right;\">\n",
       "      <th></th>\n",
       "      <th>(1, 0.001)</th>\n",
       "      <th>(1, 0.01)</th>\n",
       "      <th>(10, 0.001)</th>\n",
       "      <th>(10, 0.01)</th>\n",
       "      <th>(25, 0.001)</th>\n",
       "      <th>(25, 0.01)</th>\n",
       "      <th>(50, 0.001)</th>\n",
       "      <th>(50, 0.01)</th>\n",
       "    </tr>\n",
       "  </thead>\n",
       "  <tbody>\n",
       "    <tr>\n",
       "      <th>ALS</th>\n",
       "      <td>10.646357</td>\n",
       "      <td>10.646357</td>\n",
       "      <td>8.201532</td>\n",
       "      <td>8.201679</td>\n",
       "      <td>8.134392</td>\n",
       "      <td>8.138915</td>\n",
       "      <td>8.716404</td>\n",
       "      <td>8.721716</td>\n",
       "    </tr>\n",
       "    <tr>\n",
       "      <th>SGD</th>\n",
       "      <td>1.570397</td>\n",
       "      <td>0.975675</td>\n",
       "      <td>1.570425</td>\n",
       "      <td>1.023278</td>\n",
       "      <td>1.601633</td>\n",
       "      <td>1.064738</td>\n",
       "      <td>1.627296</td>\n",
       "      <td>1.032627</td>\n",
       "    </tr>\n",
       "  </tbody>\n",
       "</table>\n",
       "</div>"
      ],
      "text/plain": [
       "     (1, 0.001)  (1, 0.01)  (10, 0.001)  (10, 0.01)  (25, 0.001)  (25, 0.01)  \\\n",
       "ALS   10.646357  10.646357     8.201532    8.201679     8.134392    8.138915   \n",
       "SGD    1.570397   0.975675     1.570425    1.023278     1.601633    1.064738   \n",
       "\n",
       "     (50, 0.001)  (50, 0.01)  \n",
       "ALS     8.716404    8.721716  \n",
       "SGD     1.627296    1.032627  "
      ]
     },
     "execution_count": 16,
     "metadata": {},
     "output_type": "execute_result"
    }
   ],
   "source": [
    "pd_qualities = pd.DataFrame(arr_qualities, index=names, columns=factor_lr)\n",
    "pd_qualities"
   ]
  },
  {
   "cell_type": "markdown",
   "metadata": {},
   "source": [
    "SGD consistently outperforms ALS** in terms of MSE, especially at higher learning rates \n",
    "\n",
    "ALS struggles without bias, as it relies solely on matrix factorization, which may not capture nuances like global offsets or trends in the data"
   ]
  },
  {
   "cell_type": "code",
   "execution_count": 17,
   "metadata": {},
   "outputs": [
    {
     "data": {
      "text/html": [
       "<div>\n",
       "<style scoped>\n",
       "    .dataframe tbody tr th:only-of-type {\n",
       "        vertical-align: middle;\n",
       "    }\n",
       "\n",
       "    .dataframe tbody tr th {\n",
       "        vertical-align: top;\n",
       "    }\n",
       "\n",
       "    .dataframe thead th {\n",
       "        text-align: right;\n",
       "    }\n",
       "</style>\n",
       "<table border=\"1\" class=\"dataframe\">\n",
       "  <thead>\n",
       "    <tr style=\"text-align: right;\">\n",
       "      <th></th>\n",
       "      <th>(1, 0.001)</th>\n",
       "      <th>(1, 0.01)</th>\n",
       "      <th>(10, 0.001)</th>\n",
       "      <th>(10, 0.01)</th>\n",
       "      <th>(25, 0.001)</th>\n",
       "      <th>(25, 0.01)</th>\n",
       "      <th>(50, 0.001)</th>\n",
       "      <th>(50, 0.01)</th>\n",
       "    </tr>\n",
       "  </thead>\n",
       "  <tbody>\n",
       "    <tr>\n",
       "      <th>ALS</th>\n",
       "      <td>0.451218</td>\n",
       "      <td>0.421516</td>\n",
       "      <td>0.668015</td>\n",
       "      <td>0.683027</td>\n",
       "      <td>1.054377</td>\n",
       "      <td>1.073401</td>\n",
       "      <td>1.893625</td>\n",
       "      <td>1.905112</td>\n",
       "    </tr>\n",
       "    <tr>\n",
       "      <th>SGD</th>\n",
       "      <td>19.712504</td>\n",
       "      <td>19.717119</td>\n",
       "      <td>17.540177</td>\n",
       "      <td>17.634559</td>\n",
       "      <td>17.941160</td>\n",
       "      <td>17.522092</td>\n",
       "      <td>17.709499</td>\n",
       "      <td>17.591239</td>\n",
       "    </tr>\n",
       "  </tbody>\n",
       "</table>\n",
       "</div>"
      ],
      "text/plain": [
       "     (1, 0.001)  (1, 0.01)  (10, 0.001)  (10, 0.01)  (25, 0.001)  (25, 0.01)  \\\n",
       "ALS    0.451218   0.421516     0.668015    0.683027     1.054377    1.073401   \n",
       "SGD   19.712504  19.717119    17.540177   17.634559    17.941160   17.522092   \n",
       "\n",
       "     (50, 0.001)  (50, 0.01)  \n",
       "ALS     1.893625    1.905112  \n",
       "SGD    17.709499   17.591239  "
      ]
     },
     "execution_count": 17,
     "metadata": {},
     "output_type": "execute_result"
    }
   ],
   "source": [
    "pd_train_times = pd.DataFrame(arr_train_times, index=names, columns=factor_lr)\n",
    "pd_train_times"
   ]
  },
  {
   "cell_type": "markdown",
   "metadata": {},
   "source": [
    "SGD takes more time to complete compared to ALS.\n",
    "\n",
    "SGD slower because has more parametrs and more operations"
   ]
  },
  {
   "cell_type": "code",
   "execution_count": 18,
   "metadata": {},
   "outputs": [
    {
     "data": {
      "text/html": [
       "<div>\n",
       "<style scoped>\n",
       "    .dataframe tbody tr th:only-of-type {\n",
       "        vertical-align: middle;\n",
       "    }\n",
       "\n",
       "    .dataframe tbody tr th {\n",
       "        vertical-align: top;\n",
       "    }\n",
       "\n",
       "    .dataframe thead th {\n",
       "        text-align: right;\n",
       "    }\n",
       "</style>\n",
       "<table border=\"1\" class=\"dataframe\">\n",
       "  <thead>\n",
       "    <tr style=\"text-align: right;\">\n",
       "      <th></th>\n",
       "      <th>(1, 0.001)</th>\n",
       "      <th>(1, 0.01)</th>\n",
       "      <th>(10, 0.001)</th>\n",
       "      <th>(10, 0.01)</th>\n",
       "      <th>(25, 0.001)</th>\n",
       "      <th>(25, 0.01)</th>\n",
       "      <th>(50, 0.001)</th>\n",
       "      <th>(50, 0.01)</th>\n",
       "    </tr>\n",
       "  </thead>\n",
       "  <tbody>\n",
       "    <tr>\n",
       "      <th>ALS</th>\n",
       "      <td>1.158131</td>\n",
       "      <td>1.117106</td>\n",
       "      <td>1.143342</td>\n",
       "      <td>1.148916</td>\n",
       "      <td>1.159987</td>\n",
       "      <td>1.217046</td>\n",
       "      <td>1.188823</td>\n",
       "      <td>1.199417</td>\n",
       "    </tr>\n",
       "    <tr>\n",
       "      <th>SGD</th>\n",
       "      <td>1.100195</td>\n",
       "      <td>1.109077</td>\n",
       "      <td>1.127942</td>\n",
       "      <td>1.126667</td>\n",
       "      <td>1.137524</td>\n",
       "      <td>1.149790</td>\n",
       "      <td>1.141840</td>\n",
       "      <td>1.113310</td>\n",
       "    </tr>\n",
       "  </tbody>\n",
       "</table>\n",
       "</div>"
      ],
      "text/plain": [
       "     (1, 0.001)  (1, 0.01)  (10, 0.001)  (10, 0.01)  (25, 0.001)  (25, 0.01)  \\\n",
       "ALS    1.158131   1.117106     1.143342    1.148916     1.159987    1.217046   \n",
       "SGD    1.100195   1.109077     1.127942    1.126667     1.137524    1.149790   \n",
       "\n",
       "     (50, 0.001)  (50, 0.01)  \n",
       "ALS     1.188823    1.199417  \n",
       "SGD     1.141840    1.113310  "
      ]
     },
     "execution_count": 18,
     "metadata": {},
     "output_type": "execute_result"
    }
   ],
   "source": [
    "pd_predict_times = pd.DataFrame(arr_predict_times, index=names, columns=factor_lr)\n",
    "pd_predict_times"
   ]
  },
  {
   "cell_type": "markdown",
   "metadata": {},
   "source": [
    "Predict time is equal, because prediction calculate by the same formula "
   ]
  },
  {
   "cell_type": "markdown",
   "metadata": {},
   "source": [
    "2) To gain deeper insights into the effectiveness of bias incorporation\n",
    "\n",
    "it is essential to compare the performance of **ALS without bias** and **ALS with bias**.\n"
   ]
  },
  {
   "cell_type": "code",
   "execution_count": 19,
   "metadata": {},
   "outputs": [
    {
     "name": "stdout",
     "output_type": "stream",
     "text": [
      "Iteration: 1\n",
      "MSE train:test: 5.53 : 9.97\n",
      "\n",
      "Iteration: 2\n",
      "MSE train:test: 4.2 : 8.64\n",
      "\n",
      "Iteration: 5\n",
      "MSE train:test: 3.97 : 8.48\n",
      "\n",
      "Iteration: 10\n",
      "\tcurrent iteration: 10\n",
      "MSE train:test: 3.94 : 8.46\n",
      "\n",
      "Iteration: 25\n",
      "\tcurrent iteration: 20\n",
      "MSE train:test: 3.92 : 8.48\n",
      "\n",
      "Iteration: 50\n",
      "\tcurrent iteration: 30\n",
      "\tcurrent iteration: 40\n",
      "\tcurrent iteration: 50\n",
      "MSE train:test: 3.92 : 8.48\n",
      "\n",
      "Iteration: 100\n",
      "\tcurrent iteration: 60\n",
      "\tcurrent iteration: 70\n",
      "\tcurrent iteration: 80\n",
      "\tcurrent iteration: 90\n",
      "\tcurrent iteration: 100\n",
      "MSE train:test: 3.92 : 8.47\n",
      "\n"
     ]
    },
    {
     "data": {
      "image/png": "[encoded data removed]",
      "text/plain": [
       "<Figure size 640x480 with 1 Axes>"
      ]
     },
     "metadata": {},
     "output_type": "display_data"
    }
   ],
   "source": [
    "MF_ALS = ExplicitMF(train, 40, learning='als', verbose=True, is_biased=False)\n",
    "iter_array = [1, 2, 5, 10, 25, 50, 100]\n",
    "MF_ALS.calculate_learning_curve(iter_array, test, learning_rate=0.001)\n",
    "plot_learning_curve(iter_array, MF_ALS)"
   ]
  },
  {
   "cell_type": "code",
   "execution_count": 20,
   "metadata": {},
   "outputs": [
    {
     "name": "stdout",
     "output_type": "stream",
     "text": [
      "Iteration: 1\n",
      "MSE train:test: 1.57 : 2.29\n",
      "\n",
      "Iteration: 2\n",
      "MSE train:test: 1.61 : 2.66\n",
      "\n",
      "Iteration: 5\n",
      "MSE train:test: 1.62 : 2.79\n",
      "\n",
      "Iteration: 10\n",
      "\tcurrent iteration: 10\n",
      "MSE train:test: 1.62 : 2.8\n",
      "\n",
      "Iteration: 25\n",
      "\tcurrent iteration: 20\n",
      "MSE train:test: 1.62 : 2.8\n",
      "\n",
      "Iteration: 50\n",
      "\tcurrent iteration: 30\n",
      "\tcurrent iteration: 40\n",
      "\tcurrent iteration: 50\n",
      "MSE train:test: 1.62 : 2.8\n",
      "\n",
      "Iteration: 100\n",
      "\tcurrent iteration: 60\n",
      "\tcurrent iteration: 70\n",
      "\tcurrent iteration: 80\n",
      "\tcurrent iteration: 90\n",
      "\tcurrent iteration: 100\n",
      "MSE train:test: 1.62 : 2.8\n",
      "\n"
     ]
    },
    {
     "data": {
      "image/png": "[encoded data removed]",
      "text/plain": [
       "<Figure size 640x480 with 1 Axes>"
      ]
     },
     "metadata": {},
     "output_type": "display_data"
    }
   ],
   "source": [
    "MF_ALS = ExplicitMF(train, 40, learning='als', user_bias_reg=0.001, item_bias_reg=0.001, user_fact_reg= 0.001, item_fact_reg=0.001,\n",
    "                    verbose=True, is_biased=True)\n",
    "iter_array = [1, 2, 5, 10, 25, 50, 100]\n",
    "MF_ALS.calculate_learning_curve(iter_array, test, learning_rate=0.001)\n",
    "plot_learning_curve(iter_array, MF_ALS)"
   ]
  },
  {
   "cell_type": "markdown",
   "metadata": {},
   "source": [
    "ALS with bias significantly outperforms the version without bias in terms of both training and test MSE. \n",
    "\n",
    "Both models tend to stabilize after a certain number of iterations."
   ]
  },
  {
   "cell_type": "markdown",
   "metadata": {},
   "source": [
    "3) To fully understand the strengths and weaknesses of each approach, it is crucial to compare the following algorithms:\n",
    "\n",
    "\n",
    "1. **ALS without Bias**\n",
    "2. **ALS with Bias**\n",
    "3. **SGD without Bias**\n",
    "4. **SGD with Bias**"
   ]
  },
  {
   "cell_type": "code",
   "execution_count": 21,
   "metadata": {},
   "outputs": [],
   "source": [
    "MF_ALS_BIASED = CalcQualityTime(train, 40, learning='als', user_bias_reg=0.001, item_bias_reg=0.001, user_fact_reg= 0.001, item_fact_reg=0.001,\n",
    "                    verbose=False, is_biased=True)\n",
    "MF_ALS = CalcQualityTime(train, 40, learning='als', verbose=False, is_biased=False)\n",
    "\n",
    "MF_SGD = CalcQualityTime(train, 40, learning='sgd', verbose=False, is_biased=False)\n",
    "\n",
    "MF_SGD_BIASED = CalcQualityTime(train, 40, learning='sgd', verbose=False, is_biased=True)"
   ]
  },
  {
   "cell_type": "code",
   "execution_count": 22,
   "metadata": {},
   "outputs": [],
   "source": [
    "arr_n_factors = [1, 10, 25, 50]\n",
    "arr_lr_ratings = [0.001, 0.01]\n",
    "\n",
    "model_name = [(MF_ALS_BIASED, 'ALS_BIASED'), (MF_ALS, 'ALS'), (MF_SGD, 'SGD'), (MF_SGD_BIASED, 'SGD_BIASED')]\n",
    "\n",
    "arr_qualities = []\n",
    "arr_predict_times = []\n",
    "arr_train_times = []\n",
    "names = []\n",
    "for model, name in model_name:\n",
    "    quality_model, predict_time_model, train_time_model, factor_lr = model.quality_time(test, arr_n_factors, arr_lr_ratings)\n",
    "\n",
    "    arr_qualities.append(quality_model)\n",
    "    arr_predict_times.append(predict_time_model)\n",
    "    arr_train_times.append(train_time_model)\n",
    "    names.append(name)"
   ]
  },
  {
   "cell_type": "code",
   "execution_count": 23,
   "metadata": {},
   "outputs": [
    {
     "data": {
      "text/html": [
       "<div>\n",
       "<style scoped>\n",
       "    .dataframe tbody tr th:only-of-type {\n",
       "        vertical-align: middle;\n",
       "    }\n",
       "\n",
       "    .dataframe tbody tr th {\n",
       "        vertical-align: top;\n",
       "    }\n",
       "\n",
       "    .dataframe thead th {\n",
       "        text-align: right;\n",
       "    }\n",
       "</style>\n",
       "<table border=\"1\" class=\"dataframe\">\n",
       "  <thead>\n",
       "    <tr style=\"text-align: right;\">\n",
       "      <th></th>\n",
       "      <th>(1, 0.001)</th>\n",
       "      <th>(1, 0.01)</th>\n",
       "      <th>(10, 0.001)</th>\n",
       "      <th>(10, 0.01)</th>\n",
       "      <th>(25, 0.001)</th>\n",
       "      <th>(25, 0.01)</th>\n",
       "      <th>(50, 0.001)</th>\n",
       "      <th>(50, 0.01)</th>\n",
       "    </tr>\n",
       "  </thead>\n",
       "  <tbody>\n",
       "    <tr>\n",
       "      <th>ALS_BIASED</th>\n",
       "      <td>1.715085</td>\n",
       "      <td>1.714952</td>\n",
       "      <td>2.039639</td>\n",
       "      <td>2.039639</td>\n",
       "      <td>2.370129</td>\n",
       "      <td>2.366986</td>\n",
       "      <td>3.120423</td>\n",
       "      <td>3.123414</td>\n",
       "    </tr>\n",
       "    <tr>\n",
       "      <th>ALS</th>\n",
       "      <td>10.646357</td>\n",
       "      <td>10.646357</td>\n",
       "      <td>8.201754</td>\n",
       "      <td>8.201939</td>\n",
       "      <td>8.134199</td>\n",
       "      <td>8.135894</td>\n",
       "      <td>8.710304</td>\n",
       "      <td>8.710702</td>\n",
       "    </tr>\n",
       "    <tr>\n",
       "      <th>SGD</th>\n",
       "      <td>1.752830</td>\n",
       "      <td>0.989450</td>\n",
       "      <td>1.559997</td>\n",
       "      <td>1.029790</td>\n",
       "      <td>1.620396</td>\n",
       "      <td>1.069315</td>\n",
       "      <td>1.637623</td>\n",
       "      <td>1.034884</td>\n",
       "    </tr>\n",
       "    <tr>\n",
       "      <th>SGD_BIASED</th>\n",
       "      <td>1.025806</td>\n",
       "      <td>0.998024</td>\n",
       "      <td>0.957666</td>\n",
       "      <td>1.015983</td>\n",
       "      <td>0.956582</td>\n",
       "      <td>1.019535</td>\n",
       "      <td>0.956769</td>\n",
       "      <td>1.003365</td>\n",
       "    </tr>\n",
       "  </tbody>\n",
       "</table>\n",
       "</div>"
      ],
      "text/plain": [
       "            (1, 0.001)  (1, 0.01)  (10, 0.001)  (10, 0.01)  (25, 0.001)  \\\n",
       "ALS_BIASED    1.715085   1.714952     2.039639    2.039639     2.370129   \n",
       "ALS          10.646357  10.646357     8.201754    8.201939     8.134199   \n",
       "SGD           1.752830   0.989450     1.559997    1.029790     1.620396   \n",
       "SGD_BIASED    1.025806   0.998024     0.957666    1.015983     0.956582   \n",
       "\n",
       "            (25, 0.01)  (50, 0.001)  (50, 0.01)  \n",
       "ALS_BIASED    2.366986     3.120423    3.123414  \n",
       "ALS           8.135894     8.710304    8.710702  \n",
       "SGD           1.069315     1.637623    1.034884  \n",
       "SGD_BIASED    1.019535     0.956769    1.003365  "
      ]
     },
     "execution_count": 23,
     "metadata": {},
     "output_type": "execute_result"
    }
   ],
   "source": [
    "pd_qualities = pd.DataFrame(arr_qualities, index=names, columns=factor_lr)\n",
    "pd_qualities"
   ]
  },
  {
   "cell_type": "markdown",
   "metadata": {},
   "source": [
    "**Bias Improves Both ALS and SGD:**  \n",
    "    Adding bias terms significantly improves the performance of both ALS and SGD models.\n",
    "\n",
    " **SGD with Bias Outperforms All Other Models:**  \n",
    "  **SGD with Bias** achieves the lowest MSE across all configurations"
   ]
  },
  {
   "cell_type": "code",
   "execution_count": 24,
   "metadata": {},
   "outputs": [
    {
     "data": {
      "text/html": [
       "<div>\n",
       "<style scoped>\n",
       "    .dataframe tbody tr th:only-of-type {\n",
       "        vertical-align: middle;\n",
       "    }\n",
       "\n",
       "    .dataframe tbody tr th {\n",
       "        vertical-align: top;\n",
       "    }\n",
       "\n",
       "    .dataframe thead th {\n",
       "        text-align: right;\n",
       "    }\n",
       "</style>\n",
       "<table border=\"1\" class=\"dataframe\">\n",
       "  <thead>\n",
       "    <tr style=\"text-align: right;\">\n",
       "      <th></th>\n",
       "      <th>(1, 0.001)</th>\n",
       "      <th>(1, 0.01)</th>\n",
       "      <th>(10, 0.001)</th>\n",
       "      <th>(10, 0.01)</th>\n",
       "      <th>(25, 0.001)</th>\n",
       "      <th>(25, 0.01)</th>\n",
       "      <th>(50, 0.001)</th>\n",
       "      <th>(50, 0.01)</th>\n",
       "    </tr>\n",
       "  </thead>\n",
       "  <tbody>\n",
       "    <tr>\n",
       "      <th>ALS_BIASED</th>\n",
       "      <td>1.441231</td>\n",
       "      <td>1.456414</td>\n",
       "      <td>1.475122</td>\n",
       "      <td>1.452679</td>\n",
       "      <td>1.448469</td>\n",
       "      <td>1.439731</td>\n",
       "      <td>1.433341</td>\n",
       "      <td>1.428246</td>\n",
       "    </tr>\n",
       "    <tr>\n",
       "      <th>ALS</th>\n",
       "      <td>1.125662</td>\n",
       "      <td>1.078264</td>\n",
       "      <td>1.109906</td>\n",
       "      <td>1.107038</td>\n",
       "      <td>1.111490</td>\n",
       "      <td>1.150603</td>\n",
       "      <td>1.156477</td>\n",
       "      <td>1.152785</td>\n",
       "    </tr>\n",
       "    <tr>\n",
       "      <th>SGD</th>\n",
       "      <td>1.126425</td>\n",
       "      <td>1.119626</td>\n",
       "      <td>1.137614</td>\n",
       "      <td>1.137086</td>\n",
       "      <td>1.130166</td>\n",
       "      <td>1.152433</td>\n",
       "      <td>1.150765</td>\n",
       "      <td>1.145488</td>\n",
       "    </tr>\n",
       "    <tr>\n",
       "      <th>SGD_BIASED</th>\n",
       "      <td>1.408326</td>\n",
       "      <td>1.388795</td>\n",
       "      <td>1.412655</td>\n",
       "      <td>1.414196</td>\n",
       "      <td>1.398342</td>\n",
       "      <td>1.415900</td>\n",
       "      <td>1.413469</td>\n",
       "      <td>1.413953</td>\n",
       "    </tr>\n",
       "  </tbody>\n",
       "</table>\n",
       "</div>"
      ],
      "text/plain": [
       "            (1, 0.001)  (1, 0.01)  (10, 0.001)  (10, 0.01)  (25, 0.001)  \\\n",
       "ALS_BIASED    1.441231   1.456414     1.475122    1.452679     1.448469   \n",
       "ALS           1.125662   1.078264     1.109906    1.107038     1.111490   \n",
       "SGD           1.126425   1.119626     1.137614    1.137086     1.130166   \n",
       "SGD_BIASED    1.408326   1.388795     1.412655    1.414196     1.398342   \n",
       "\n",
       "            (25, 0.01)  (50, 0.001)  (50, 0.01)  \n",
       "ALS_BIASED    1.439731     1.433341    1.428246  \n",
       "ALS           1.150603     1.156477    1.152785  \n",
       "SGD           1.152433     1.150765    1.145488  \n",
       "SGD_BIASED    1.415900     1.413469    1.413953  "
      ]
     },
     "execution_count": 24,
     "metadata": {},
     "output_type": "execute_result"
    }
   ],
   "source": [
    "pd_predict_times = pd.DataFrame(arr_predict_times, index=names, columns=factor_lr)\n",
    "pd_predict_times"
   ]
  },
  {
   "cell_type": "markdown",
   "metadata": {},
   "source": [
    "Since **ALS** and **SGD** do not incorporate bias terms, they have simpler models compared to their biased counterparts.\n",
    "\n",
    "This simplicity leads to faster prediction times."
   ]
  },
  {
   "cell_type": "code",
   "execution_count": 25,
   "metadata": {},
   "outputs": [
    {
     "data": {
      "text/html": [
       "<div>\n",
       "<style scoped>\n",
       "    .dataframe tbody tr th:only-of-type {\n",
       "        vertical-align: middle;\n",
       "    }\n",
       "\n",
       "    .dataframe tbody tr th {\n",
       "        vertical-align: top;\n",
       "    }\n",
       "\n",
       "    .dataframe thead th {\n",
       "        text-align: right;\n",
       "    }\n",
       "</style>\n",
       "<table border=\"1\" class=\"dataframe\">\n",
       "  <thead>\n",
       "    <tr style=\"text-align: right;\">\n",
       "      <th></th>\n",
       "      <th>(1, 0.001)</th>\n",
       "      <th>(1, 0.01)</th>\n",
       "      <th>(10, 0.001)</th>\n",
       "      <th>(10, 0.01)</th>\n",
       "      <th>(25, 0.001)</th>\n",
       "      <th>(25, 0.01)</th>\n",
       "      <th>(50, 0.001)</th>\n",
       "      <th>(50, 0.01)</th>\n",
       "    </tr>\n",
       "  </thead>\n",
       "  <tbody>\n",
       "    <tr>\n",
       "      <th>ALS_BIASED</th>\n",
       "      <td>1.803345</td>\n",
       "      <td>1.841236</td>\n",
       "      <td>2.013711</td>\n",
       "      <td>1.980393</td>\n",
       "      <td>2.318639</td>\n",
       "      <td>2.336743</td>\n",
       "      <td>3.236052</td>\n",
       "      <td>3.274258</td>\n",
       "    </tr>\n",
       "    <tr>\n",
       "      <th>ALS</th>\n",
       "      <td>0.398430</td>\n",
       "      <td>0.399575</td>\n",
       "      <td>0.627751</td>\n",
       "      <td>0.635705</td>\n",
       "      <td>0.976002</td>\n",
       "      <td>0.976999</td>\n",
       "      <td>1.831969</td>\n",
       "      <td>1.819470</td>\n",
       "    </tr>\n",
       "    <tr>\n",
       "      <th>SGD</th>\n",
       "      <td>19.309487</td>\n",
       "      <td>19.320187</td>\n",
       "      <td>17.272108</td>\n",
       "      <td>17.363122</td>\n",
       "      <td>17.363662</td>\n",
       "      <td>17.310051</td>\n",
       "      <td>17.433023</td>\n",
       "      <td>17.438616</td>\n",
       "    </tr>\n",
       "    <tr>\n",
       "      <th>SGD_BIASED</th>\n",
       "      <td>21.808362</td>\n",
       "      <td>21.756643</td>\n",
       "      <td>19.760476</td>\n",
       "      <td>19.751581</td>\n",
       "      <td>19.792469</td>\n",
       "      <td>19.502680</td>\n",
       "      <td>19.686174</td>\n",
       "      <td>19.637249</td>\n",
       "    </tr>\n",
       "  </tbody>\n",
       "</table>\n",
       "</div>"
      ],
      "text/plain": [
       "            (1, 0.001)  (1, 0.01)  (10, 0.001)  (10, 0.01)  (25, 0.001)  \\\n",
       "ALS_BIASED    1.803345   1.841236     2.013711    1.980393     2.318639   \n",
       "ALS           0.398430   0.399575     0.627751    0.635705     0.976002   \n",
       "SGD          19.309487  19.320187    17.272108   17.363122    17.363662   \n",
       "SGD_BIASED   21.808362  21.756643    19.760476   19.751581    19.792469   \n",
       "\n",
       "            (25, 0.01)  (50, 0.001)  (50, 0.01)  \n",
       "ALS_BIASED    2.336743     3.236052    3.274258  \n",
       "ALS           0.976999     1.831969    1.819470  \n",
       "SGD          17.310051    17.433023   17.438616  \n",
       "SGD_BIASED   19.502680    19.686174   19.637249  "
      ]
     },
     "execution_count": 25,
     "metadata": {},
     "output_type": "execute_result"
    }
   ],
   "source": [
    "pd_train_times = pd.DataFrame(arr_train_times, index=names, columns=factor_lr)\n",
    "pd_train_times"
   ]
  },
  {
   "cell_type": "markdown",
   "metadata": {},
   "source": [
    "**Bias Increases Training Time:**  \n",
    "  Both **ALS** and **SGD** models with bias take longer to train compared to their non-biased versions.\n",
    "\n",
    "**SGD Requires More Training Time Than ALS:**  \n",
    "  **SGD** models (biased or not) are more computationally intensive than **ALS** due to the iterative nature of the optimization process."
   ]
  },
  {
   "cell_type": "markdown",
   "metadata": {},
   "source": [
    "4. Now, it is crucial to compare the current ALS implementation with the version provided by Apache Spark's MLlib"
   ]
  },
  {
   "cell_type": "code",
   "execution_count": 26,
   "metadata": {},
   "outputs": [
    {
     "name": "stdout",
     "output_type": "stream",
     "text": [
      "+------+-------+------+\n",
      "|userId|movieId|rating|\n",
      "+------+-------+------+\n",
      "|   196|    242|   3.0|\n",
      "|   186|    302|   3.0|\n",
      "+------+-------+------+\n",
      "only showing top 2 rows\n",
      "\n"
     ]
    }
   ],
   "source": [
    "from pyspark.sql import SparkSession\n",
    "import setuptools.dist\n",
    "from pyspark.sql.types import StructType, StructField, IntegerType, FloatType\n",
    "from pyspark.ml.recommendation import ALS\n",
    "from pyspark.sql.functions import col\n",
    "from pyspark.sql.types import IntegerType, FloatType\n",
    "from pyspark.ml.evaluation import RegressionEvaluator\n",
    "\n",
    "const_num_iter = 15\n",
    "\n",
    "spark = SparkSession.builder \\\n",
    "    .appName(\"ALS Example with Spark CSV\") \\\n",
    "    .getOrCreate()\n",
    "\n",
    "\n",
    "schema = StructType([\n",
    "    StructField(\"userId\", IntegerType(), True),\n",
    "    StructField(\"movieId\", IntegerType(), True),\n",
    "    StructField(\"rating\", FloatType(), True),\n",
    "    StructField(\"timestamp\", IntegerType(), True)\n",
    "])\n",
    "\n",
    "file_path = \"u.data\" \n",
    "spark_df = spark.read.csv(file_path, schema=schema, sep=\"\\t\", header=False)\n",
    "\n",
    "spark_df = spark_df.drop(\"timestamp\")\n",
    "train_data, test_data = spark_df.randomSplit([0.8, 0.2], seed=42)\n",
    "\n",
    "spark_df.show(2)"
   ]
  },
  {
   "cell_type": "code",
   "execution_count": 27,
   "metadata": {},
   "outputs": [],
   "source": [
    "MF_ALS_BIASED = CalcQualityTime(train, 40, learning='als', user_bias_reg=0.001, item_bias_reg=0.001, user_fact_reg= 0.001, item_fact_reg=0.001,\n",
    "                    verbose=False, is_biased=True)\n",
    "MF_ALS = CalcQualityTime(train, 40, learning='als', verbose=False, is_biased=False)"
   ]
  },
  {
   "cell_type": "code",
   "execution_count": 28,
   "metadata": {},
   "outputs": [],
   "source": [
    "arr_n_factors = [1, 10, 25, 50]\n",
    "arr_lr_ratings = [0.001, 0.01]\n",
    "\n",
    "model_name = [(MF_ALS_BIASED, 'ALS_BIASED'), (MF_ALS, 'ALS')]\n",
    "\n",
    "arr_qualities = []\n",
    "arr_predict_times = []\n",
    "arr_train_times = []\n",
    "for model, name in model_name:\n",
    "    quality_model, predict_time_model, train_time_model, factor_lr = model.quality_time(test, arr_n_factors, arr_lr_ratings)\n",
    "    \n",
    "    arr_qualities.append(quality_model)\n",
    "    arr_predict_times.append(predict_time_model)\n",
    "    arr_train_times.append(train_time_model)\n",
    "    "
   ]
  },
  {
   "cell_type": "code",
   "execution_count": 29,
   "metadata": {},
   "outputs": [],
   "source": [
    "quality_als_spark = []\n",
    "predict_times_als_spark = []\n",
    "train_times_als_spark = []\n",
    "\n",
    "for n_factor in arr_n_factors:\n",
    "    for lr in arr_lr_ratings:\n",
    "        als_spark = ALS(\n",
    "            maxIter=15,\n",
    "            rank = n_factor,\n",
    "            regParam=lr,\n",
    "            userCol=\"userId\",\n",
    "            itemCol=\"movieId\",\n",
    "            ratingCol=\"rating\",\n",
    "            coldStartStrategy=\"drop\"\n",
    "        )\n",
    "\n",
    "        train_start = time.time()\n",
    "        als_spark_model = als_spark.fit(train_data)\n",
    "        train_end = time.time()\n",
    "\n",
    "        predict_start = time.time()\n",
    "        predictions = als_spark_model.transform(test_data)\n",
    "        predict_end = time.time()\n",
    "        \n",
    "        evaluator = RegressionEvaluator(\n",
    "            metricName=\"mse\",\n",
    "            labelCol=\"rating\",\n",
    "            predictionCol=\"prediction\"\n",
    "        )\n",
    "\n",
    "        mse = evaluator.evaluate(predictions)\n",
    "        quality_als_spark.append(mse)\n",
    "        predict_times_als_spark.append(predict_end - predict_start)\n",
    "        train_times_als_spark.append(train_end - train_start)"
   ]
  },
  {
   "cell_type": "code",
   "execution_count": 30,
   "metadata": {},
   "outputs": [],
   "source": [
    "arr_qualities.append(quality_als_spark)\n",
    "arr_predict_times.append(predict_times_als_spark)\n",
    "arr_train_times.append(train_times_als_spark)"
   ]
  },
  {
   "cell_type": "code",
   "execution_count": 31,
   "metadata": {},
   "outputs": [
    {
     "data": {
      "text/html": [
       "<div>\n",
       "<style scoped>\n",
       "    .dataframe tbody tr th:only-of-type {\n",
       "        vertical-align: middle;\n",
       "    }\n",
       "\n",
       "    .dataframe tbody tr th {\n",
       "        vertical-align: top;\n",
       "    }\n",
       "\n",
       "    .dataframe thead th {\n",
       "        text-align: right;\n",
       "    }\n",
       "</style>\n",
       "<table border=\"1\" class=\"dataframe\">\n",
       "  <thead>\n",
       "    <tr style=\"text-align: right;\">\n",
       "      <th></th>\n",
       "      <th>(1, 0.001)</th>\n",
       "      <th>(1, 0.01)</th>\n",
       "      <th>(10, 0.001)</th>\n",
       "      <th>(10, 0.01)</th>\n",
       "      <th>(25, 0.001)</th>\n",
       "      <th>(25, 0.01)</th>\n",
       "      <th>(50, 0.001)</th>\n",
       "      <th>(50, 0.01)</th>\n",
       "    </tr>\n",
       "  </thead>\n",
       "  <tbody>\n",
       "    <tr>\n",
       "      <th>ALS_BIASED</th>\n",
       "      <td>1.714969</td>\n",
       "      <td>1.714939</td>\n",
       "      <td>2.040272</td>\n",
       "      <td>2.038079</td>\n",
       "      <td>2.367800</td>\n",
       "      <td>2.371960</td>\n",
       "      <td>3.131761</td>\n",
       "      <td>3.112561</td>\n",
       "    </tr>\n",
       "    <tr>\n",
       "      <th>ALS</th>\n",
       "      <td>10.646357</td>\n",
       "      <td>10.646357</td>\n",
       "      <td>8.205575</td>\n",
       "      <td>8.200609</td>\n",
       "      <td>8.149528</td>\n",
       "      <td>8.140540</td>\n",
       "      <td>8.712668</td>\n",
       "      <td>8.729430</td>\n",
       "    </tr>\n",
       "    <tr>\n",
       "      <th>ALS_SPARK</th>\n",
       "      <td>10.693650</td>\n",
       "      <td>0.886234</td>\n",
       "      <td>1.815016</td>\n",
       "      <td>1.191441</td>\n",
       "      <td>2.510492</td>\n",
       "      <td>1.511787</td>\n",
       "      <td>2.507142</td>\n",
       "      <td>1.507194</td>\n",
       "    </tr>\n",
       "  </tbody>\n",
       "</table>\n",
       "</div>"
      ],
      "text/plain": [
       "            (1, 0.001)  (1, 0.01)  (10, 0.001)  (10, 0.01)  (25, 0.001)  \\\n",
       "ALS_BIASED    1.714969   1.714939     2.040272    2.038079     2.367800   \n",
       "ALS          10.646357  10.646357     8.205575    8.200609     8.149528   \n",
       "ALS_SPARK    10.693650   0.886234     1.815016    1.191441     2.510492   \n",
       "\n",
       "            (25, 0.01)  (50, 0.001)  (50, 0.01)  \n",
       "ALS_BIASED    2.371960     3.131761    3.112561  \n",
       "ALS           8.140540     8.712668    8.729430  \n",
       "ALS_SPARK     1.511787     2.507142    1.507194  "
      ]
     },
     "execution_count": 31,
     "metadata": {},
     "output_type": "execute_result"
    }
   ],
   "source": [
    "pd_qualities = pd.DataFrame(arr_qualities, index=['ALS_BIASED', 'ALS', 'ALS_SPARK'], columns=factor_lr)\n",
    "pd_qualities"
   ]
  },
  {
   "cell_type": "markdown",
   "metadata": {},
   "source": [
    " **ALS Spark** consistently provides much better performance than our **ALS** "
   ]
  },
  {
   "cell_type": "code",
   "execution_count": 32,
   "metadata": {},
   "outputs": [
    {
     "data": {
      "text/html": [
       "<div>\n",
       "<style scoped>\n",
       "    .dataframe tbody tr th:only-of-type {\n",
       "        vertical-align: middle;\n",
       "    }\n",
       "\n",
       "    .dataframe tbody tr th {\n",
       "        vertical-align: top;\n",
       "    }\n",
       "\n",
       "    .dataframe thead th {\n",
       "        text-align: right;\n",
       "    }\n",
       "</style>\n",
       "<table border=\"1\" class=\"dataframe\">\n",
       "  <thead>\n",
       "    <tr style=\"text-align: right;\">\n",
       "      <th></th>\n",
       "      <th>(1, 0.001)</th>\n",
       "      <th>(1, 0.01)</th>\n",
       "      <th>(10, 0.001)</th>\n",
       "      <th>(10, 0.01)</th>\n",
       "      <th>(25, 0.001)</th>\n",
       "      <th>(25, 0.01)</th>\n",
       "      <th>(50, 0.001)</th>\n",
       "      <th>(50, 0.01)</th>\n",
       "    </tr>\n",
       "  </thead>\n",
       "  <tbody>\n",
       "    <tr>\n",
       "      <th>ALS_BIASED</th>\n",
       "      <td>1.408179</td>\n",
       "      <td>1.373522</td>\n",
       "      <td>1.396891</td>\n",
       "      <td>1.393755</td>\n",
       "      <td>1.393346</td>\n",
       "      <td>1.389166</td>\n",
       "      <td>1.386703</td>\n",
       "      <td>1.514274</td>\n",
       "    </tr>\n",
       "    <tr>\n",
       "      <th>ALS</th>\n",
       "      <td>1.193162</td>\n",
       "      <td>1.158872</td>\n",
       "      <td>1.148763</td>\n",
       "      <td>1.148386</td>\n",
       "      <td>1.208226</td>\n",
       "      <td>1.202687</td>\n",
       "      <td>1.179968</td>\n",
       "      <td>1.210474</td>\n",
       "    </tr>\n",
       "    <tr>\n",
       "      <th>ALS_SPARK</th>\n",
       "      <td>0.059191</td>\n",
       "      <td>0.021952</td>\n",
       "      <td>0.017965</td>\n",
       "      <td>0.016288</td>\n",
       "      <td>0.015146</td>\n",
       "      <td>0.013463</td>\n",
       "      <td>0.014173</td>\n",
       "      <td>0.012989</td>\n",
       "    </tr>\n",
       "  </tbody>\n",
       "</table>\n",
       "</div>"
      ],
      "text/plain": [
       "            (1, 0.001)  (1, 0.01)  (10, 0.001)  (10, 0.01)  (25, 0.001)  \\\n",
       "ALS_BIASED    1.408179   1.373522     1.396891    1.393755     1.393346   \n",
       "ALS           1.193162   1.158872     1.148763    1.148386     1.208226   \n",
       "ALS_SPARK     0.059191   0.021952     0.017965    0.016288     0.015146   \n",
       "\n",
       "            (25, 0.01)  (50, 0.001)  (50, 0.01)  \n",
       "ALS_BIASED    1.389166     1.386703    1.514274  \n",
       "ALS           1.202687     1.179968    1.210474  \n",
       "ALS_SPARK     0.013463     0.014173    0.012989  "
      ]
     },
     "execution_count": 32,
     "metadata": {},
     "output_type": "execute_result"
    }
   ],
   "source": [
    "pd_predict_times = pd.DataFrame(arr_predict_times, index=['ALS_BIASED', 'ALS', 'ALS_SPARK'], columns=factor_lr)\n",
    "pd_predict_times"
   ]
  },
  {
   "cell_type": "markdown",
   "metadata": {},
   "source": [
    "ALS Spark clearly outperforms both ALS and ALS Biased in terms of execution time. This may be related to the fact that Spark works more efficiently with memory"
   ]
  },
  {
   "cell_type": "code",
   "execution_count": 33,
   "metadata": {},
   "outputs": [
    {
     "data": {
      "text/html": [
       "<div>\n",
       "<style scoped>\n",
       "    .dataframe tbody tr th:only-of-type {\n",
       "        vertical-align: middle;\n",
       "    }\n",
       "\n",
       "    .dataframe tbody tr th {\n",
       "        vertical-align: top;\n",
       "    }\n",
       "\n",
       "    .dataframe thead th {\n",
       "        text-align: right;\n",
       "    }\n",
       "</style>\n",
       "<table border=\"1\" class=\"dataframe\">\n",
       "  <thead>\n",
       "    <tr style=\"text-align: right;\">\n",
       "      <th></th>\n",
       "      <th>(1, 0.001)</th>\n",
       "      <th>(1, 0.01)</th>\n",
       "      <th>(10, 0.001)</th>\n",
       "      <th>(10, 0.01)</th>\n",
       "      <th>(25, 0.001)</th>\n",
       "      <th>(25, 0.01)</th>\n",
       "      <th>(50, 0.001)</th>\n",
       "      <th>(50, 0.01)</th>\n",
       "    </tr>\n",
       "  </thead>\n",
       "  <tbody>\n",
       "    <tr>\n",
       "      <th>ALS_BIASED</th>\n",
       "      <td>0.880682</td>\n",
       "      <td>0.868993</td>\n",
       "      <td>0.968684</td>\n",
       "      <td>0.984821</td>\n",
       "      <td>1.150532</td>\n",
       "      <td>1.147526</td>\n",
       "      <td>1.611005</td>\n",
       "      <td>1.696918</td>\n",
       "    </tr>\n",
       "    <tr>\n",
       "      <th>ALS</th>\n",
       "      <td>0.230937</td>\n",
       "      <td>0.226176</td>\n",
       "      <td>0.333055</td>\n",
       "      <td>0.344275</td>\n",
       "      <td>0.562119</td>\n",
       "      <td>0.527988</td>\n",
       "      <td>0.989878</td>\n",
       "      <td>0.971400</td>\n",
       "    </tr>\n",
       "    <tr>\n",
       "      <th>ALS_SPARK</th>\n",
       "      <td>3.116635</td>\n",
       "      <td>1.901286</td>\n",
       "      <td>2.081453</td>\n",
       "      <td>2.016167</td>\n",
       "      <td>2.094080</td>\n",
       "      <td>1.760573</td>\n",
       "      <td>1.998663</td>\n",
       "      <td>2.237840</td>\n",
       "    </tr>\n",
       "  </tbody>\n",
       "</table>\n",
       "</div>"
      ],
      "text/plain": [
       "            (1, 0.001)  (1, 0.01)  (10, 0.001)  (10, 0.01)  (25, 0.001)  \\\n",
       "ALS_BIASED    0.880682   0.868993     0.968684    0.984821     1.150532   \n",
       "ALS           0.230937   0.226176     0.333055    0.344275     0.562119   \n",
       "ALS_SPARK     3.116635   1.901286     2.081453    2.016167     2.094080   \n",
       "\n",
       "            (25, 0.01)  (50, 0.001)  (50, 0.01)  \n",
       "ALS_BIASED    1.147526     1.611005    1.696918  \n",
       "ALS           0.527988     0.989878    0.971400  \n",
       "ALS_SPARK     1.760573     1.998663    2.237840  "
      ]
     },
     "execution_count": 33,
     "metadata": {},
     "output_type": "execute_result"
    }
   ],
   "source": [
    "pd_train_times = pd.DataFrame(arr_train_times, index=['ALS_BIASED', 'ALS', 'ALS_SPARK'], columns=factor_lr)\n",
    "pd_train_times"
   ]
  },
  {
   "cell_type": "markdown",
   "metadata": {},
   "source": [
    "ALS Biased and ALS have significantly lower training times compared to ALS Spark"
   ]
  },
  {
   "cell_type": "markdown",
   "metadata": {},
   "source": [
    "## Why is ALS in this implementation not performing well? \n",
    "\n",
    "First, if it were rewritten in a low-level language, it could be much faster and more efficient. \n",
    "\n",
    "Third, it feels like a rather generic solution, and more interesting specialized methods could be developed, or the large problem could be split into smaller ones."
   ]
  }
 ],
 "metadata": {
  "kernelspec": {
   "display_name": "Python 3",
   "language": "python",
   "name": "python3"
  },
  "language_info": {
   "codemirror_mode": {
    "name": "ipython",
    "version": 3
   },
   "file_extension": ".py",
   "mimetype": "text/x-python",
   "name": "python",
   "nbconvert_exporter": "python",
   "pygments_lexer": "ipython3",
   "version": "3.13.0"
  }
 },
 "nbformat": 4,
 "nbformat_minor": 4
}
